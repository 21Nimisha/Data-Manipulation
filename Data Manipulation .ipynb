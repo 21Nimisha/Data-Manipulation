{
 "cells": [
  {
   "cell_type": "markdown",
   "metadata": {},
   "source": [
    "# Basic Functionality of Series - Ndim"
   ]
  },
  {
   "cell_type": "markdown",
   "metadata": {},
   "source": [
    "# ndim - returns the number of dimensions of the data structure. it presents no of columns in dataset"
   ]
  },
  {
   "cell_type": "code",
   "execution_count": 1,
   "metadata": {},
   "outputs": [],
   "source": [
    "import pandas as pd\n",
    "import numpy as np"
   ]
  },
  {
   "cell_type": "code",
   "execution_count": 2,
   "metadata": {},
   "outputs": [],
   "source": [
    "df = pd.Series(np.arange(1,51))"
   ]
  },
  {
   "cell_type": "code",
   "execution_count": 3,
   "metadata": {},
   "outputs": [
    {
     "data": {
      "text/plain": [
       "0      1\n",
       "1      2\n",
       "2      3\n",
       "3      4\n",
       "4      5\n",
       "5      6\n",
       "6      7\n",
       "7      8\n",
       "8      9\n",
       "9     10\n",
       "10    11\n",
       "11    12\n",
       "12    13\n",
       "13    14\n",
       "14    15\n",
       "15    16\n",
       "16    17\n",
       "17    18\n",
       "18    19\n",
       "19    20\n",
       "20    21\n",
       "21    22\n",
       "22    23\n",
       "23    24\n",
       "24    25\n",
       "25    26\n",
       "26    27\n",
       "27    28\n",
       "28    29\n",
       "29    30\n",
       "30    31\n",
       "31    32\n",
       "32    33\n",
       "33    34\n",
       "34    35\n",
       "35    36\n",
       "36    37\n",
       "37    38\n",
       "38    39\n",
       "39    40\n",
       "40    41\n",
       "41    42\n",
       "42    43\n",
       "43    44\n",
       "44    45\n",
       "45    46\n",
       "46    47\n",
       "47    48\n",
       "48    49\n",
       "49    50\n",
       "dtype: int32"
      ]
     },
     "execution_count": 3,
     "metadata": {},
     "output_type": "execute_result"
    }
   ],
   "source": [
    "df"
   ]
  },
  {
   "cell_type": "code",
   "execution_count": 4,
   "metadata": {},
   "outputs": [
    {
     "name": "stdout",
     "output_type": "stream",
     "text": [
      "1\n"
     ]
    }
   ],
   "source": [
    "print(df.ndim) # as in above df only one columns so its given output 1."
   ]
  },
  {
   "cell_type": "markdown",
   "metadata": {},
   "source": [
    "# Basic Functionality of Series - Axes\n",
    "\n",
    "Axes - it returns a list of the axes of the row lables"
   ]
  },
  {
   "cell_type": "code",
   "execution_count": 5,
   "metadata": {},
   "outputs": [
    {
     "name": "stdout",
     "output_type": "stream",
     "text": [
      "[RangeIndex(start=0, stop=50, step=1)]\n"
     ]
    }
   ],
   "source": [
    "import pandas as pd\n",
    "import numpy as np\n",
    "\n",
    "df = pd.Series(np.arange(1,51))\n",
    "print(df.axes)"
   ]
  },
  {
   "cell_type": "markdown",
   "metadata": {},
   "source": [
    "# Basic Functionality of Series - Values\n",
    " Values - it returns the actual data in series of the array"
   ]
  },
  {
   "cell_type": "code",
   "execution_count": 6,
   "metadata": {},
   "outputs": [
    {
     "name": "stdout",
     "output_type": "stream",
     "text": [
      "[ 1  2  3  4  5  6  7  8  9 10 11 12 13 14 15 16 17 18 19 20 21 22 23 24\n",
      " 25 26 27 28 29 30 31 32 33 34 35 36 37 38 39 40 41 42 43 44 45 46 47 48\n",
      " 49 50]\n"
     ]
    }
   ],
   "source": [
    "import pandas as pd\n",
    "import numpy as np\n",
    "\n",
    "df = pd.Series(np.arange(1,51))\n",
    "print(df.values)"
   ]
  },
  {
   "cell_type": "markdown",
   "metadata": {},
   "source": [
    "# Basic Functionality of Series - head\n",
    "Head - it returns the first n rows of the datastructure"
   ]
  },
  {
   "cell_type": "code",
   "execution_count": 7,
   "metadata": {},
   "outputs": [
    {
     "name": "stdout",
     "output_type": "stream",
     "text": [
      "0    1\n",
      "1    2\n",
      "2    3\n",
      "3    4\n",
      "4    5\n",
      "5    6\n",
      "dtype: int32\n"
     ]
    }
   ],
   "source": [
    "import pandas as pd\n",
    "import numpy as np\n",
    "\n",
    "df = pd.Series(np.arange(1,51))\n",
    "print(df.head(6))"
   ]
  },
  {
   "cell_type": "markdown",
   "metadata": {},
   "source": [
    "# Basic Functionality of Series - Tail\n",
    "Tail - it returns the last n rows of the datastructure"
   ]
  },
  {
   "cell_type": "code",
   "execution_count": 8,
   "metadata": {},
   "outputs": [
    {
     "name": "stdout",
     "output_type": "stream",
     "text": [
      "44    45\n",
      "45    46\n",
      "46    47\n",
      "47    48\n",
      "48    49\n",
      "49    50\n",
      "dtype: int32\n"
     ]
    }
   ],
   "source": [
    "import pandas as pd\n",
    "import numpy as np\n",
    "\n",
    "df = pd.Series(np.arange(1,51))\n",
    "print(df.tail(6))"
   ]
  },
  {
   "cell_type": "markdown",
   "metadata": {},
   "source": [
    "# Basic Functionality of Series - Sum\n",
    "Sum() - it returns the sum of the values for the requestewd axis"
   ]
  },
  {
   "cell_type": "code",
   "execution_count": 9,
   "metadata": {},
   "outputs": [
    {
     "name": "stdout",
     "output_type": "stream",
     "text": [
      "[ 1  3  5  7  9 11 13 15 17 19 21 23 25 27 29 31 33 35 37 39 41 43 45 47\n",
      " 49 51 53 55 57 59 61 63 65 67 69 71 73 75 77 79 81 83 85 87 89 91 93 95\n",
      " 97 99]\n",
      "[ 0  2  4  6  8 10 12 14 16 18 20 22 24 26 28 30 32 34 36 38 40 42 44 46\n",
      " 48 50 52 54 56 58 60 62 64 66 68 70 72 74 76 78 80 82 84 86 88 90 92 94\n",
      " 96 98]\n"
     ]
    }
   ],
   "source": [
    "import pandas as pd\n",
    "import numpy as np\n",
    "\n",
    "d = {'odd' : np.arange(1,100,2),\n",
    "    'even' : np.arange(0,100,2)}\n",
    "\n",
    "print(d['odd'])\n",
    "print(d['even'])\n"
   ]
  },
  {
   "cell_type": "code",
   "execution_count": 11,
   "metadata": {},
   "outputs": [
    {
     "data": {
      "text/html": [
       "<div>\n",
       "<style scoped>\n",
       "    .dataframe tbody tr th:only-of-type {\n",
       "        vertical-align: middle;\n",
       "    }\n",
       "\n",
       "    .dataframe tbody tr th {\n",
       "        vertical-align: top;\n",
       "    }\n",
       "\n",
       "    .dataframe thead th {\n",
       "        text-align: right;\n",
       "    }\n",
       "</style>\n",
       "<table border=\"1\" class=\"dataframe\">\n",
       "  <thead>\n",
       "    <tr style=\"text-align: right;\">\n",
       "      <th></th>\n",
       "      <th>odd</th>\n",
       "      <th>even</th>\n",
       "    </tr>\n",
       "  </thead>\n",
       "  <tbody>\n",
       "    <tr>\n",
       "      <th>0</th>\n",
       "      <td>1</td>\n",
       "      <td>0</td>\n",
       "    </tr>\n",
       "    <tr>\n",
       "      <th>1</th>\n",
       "      <td>3</td>\n",
       "      <td>2</td>\n",
       "    </tr>\n",
       "    <tr>\n",
       "      <th>2</th>\n",
       "      <td>5</td>\n",
       "      <td>4</td>\n",
       "    </tr>\n",
       "    <tr>\n",
       "      <th>3</th>\n",
       "      <td>7</td>\n",
       "      <td>6</td>\n",
       "    </tr>\n",
       "    <tr>\n",
       "      <th>4</th>\n",
       "      <td>9</td>\n",
       "      <td>8</td>\n",
       "    </tr>\n",
       "    <tr>\n",
       "      <th>5</th>\n",
       "      <td>11</td>\n",
       "      <td>10</td>\n",
       "    </tr>\n",
       "    <tr>\n",
       "      <th>6</th>\n",
       "      <td>13</td>\n",
       "      <td>12</td>\n",
       "    </tr>\n",
       "    <tr>\n",
       "      <th>7</th>\n",
       "      <td>15</td>\n",
       "      <td>14</td>\n",
       "    </tr>\n",
       "    <tr>\n",
       "      <th>8</th>\n",
       "      <td>17</td>\n",
       "      <td>16</td>\n",
       "    </tr>\n",
       "    <tr>\n",
       "      <th>9</th>\n",
       "      <td>19</td>\n",
       "      <td>18</td>\n",
       "    </tr>\n",
       "    <tr>\n",
       "      <th>10</th>\n",
       "      <td>21</td>\n",
       "      <td>20</td>\n",
       "    </tr>\n",
       "    <tr>\n",
       "      <th>11</th>\n",
       "      <td>23</td>\n",
       "      <td>22</td>\n",
       "    </tr>\n",
       "    <tr>\n",
       "      <th>12</th>\n",
       "      <td>25</td>\n",
       "      <td>24</td>\n",
       "    </tr>\n",
       "    <tr>\n",
       "      <th>13</th>\n",
       "      <td>27</td>\n",
       "      <td>26</td>\n",
       "    </tr>\n",
       "    <tr>\n",
       "      <th>14</th>\n",
       "      <td>29</td>\n",
       "      <td>28</td>\n",
       "    </tr>\n",
       "    <tr>\n",
       "      <th>15</th>\n",
       "      <td>31</td>\n",
       "      <td>30</td>\n",
       "    </tr>\n",
       "    <tr>\n",
       "      <th>16</th>\n",
       "      <td>33</td>\n",
       "      <td>32</td>\n",
       "    </tr>\n",
       "    <tr>\n",
       "      <th>17</th>\n",
       "      <td>35</td>\n",
       "      <td>34</td>\n",
       "    </tr>\n",
       "    <tr>\n",
       "      <th>18</th>\n",
       "      <td>37</td>\n",
       "      <td>36</td>\n",
       "    </tr>\n",
       "    <tr>\n",
       "      <th>19</th>\n",
       "      <td>39</td>\n",
       "      <td>38</td>\n",
       "    </tr>\n",
       "    <tr>\n",
       "      <th>20</th>\n",
       "      <td>41</td>\n",
       "      <td>40</td>\n",
       "    </tr>\n",
       "    <tr>\n",
       "      <th>21</th>\n",
       "      <td>43</td>\n",
       "      <td>42</td>\n",
       "    </tr>\n",
       "    <tr>\n",
       "      <th>22</th>\n",
       "      <td>45</td>\n",
       "      <td>44</td>\n",
       "    </tr>\n",
       "    <tr>\n",
       "      <th>23</th>\n",
       "      <td>47</td>\n",
       "      <td>46</td>\n",
       "    </tr>\n",
       "    <tr>\n",
       "      <th>24</th>\n",
       "      <td>49</td>\n",
       "      <td>48</td>\n",
       "    </tr>\n",
       "    <tr>\n",
       "      <th>25</th>\n",
       "      <td>51</td>\n",
       "      <td>50</td>\n",
       "    </tr>\n",
       "    <tr>\n",
       "      <th>26</th>\n",
       "      <td>53</td>\n",
       "      <td>52</td>\n",
       "    </tr>\n",
       "    <tr>\n",
       "      <th>27</th>\n",
       "      <td>55</td>\n",
       "      <td>54</td>\n",
       "    </tr>\n",
       "    <tr>\n",
       "      <th>28</th>\n",
       "      <td>57</td>\n",
       "      <td>56</td>\n",
       "    </tr>\n",
       "    <tr>\n",
       "      <th>29</th>\n",
       "      <td>59</td>\n",
       "      <td>58</td>\n",
       "    </tr>\n",
       "    <tr>\n",
       "      <th>30</th>\n",
       "      <td>61</td>\n",
       "      <td>60</td>\n",
       "    </tr>\n",
       "    <tr>\n",
       "      <th>31</th>\n",
       "      <td>63</td>\n",
       "      <td>62</td>\n",
       "    </tr>\n",
       "    <tr>\n",
       "      <th>32</th>\n",
       "      <td>65</td>\n",
       "      <td>64</td>\n",
       "    </tr>\n",
       "    <tr>\n",
       "      <th>33</th>\n",
       "      <td>67</td>\n",
       "      <td>66</td>\n",
       "    </tr>\n",
       "    <tr>\n",
       "      <th>34</th>\n",
       "      <td>69</td>\n",
       "      <td>68</td>\n",
       "    </tr>\n",
       "    <tr>\n",
       "      <th>35</th>\n",
       "      <td>71</td>\n",
       "      <td>70</td>\n",
       "    </tr>\n",
       "    <tr>\n",
       "      <th>36</th>\n",
       "      <td>73</td>\n",
       "      <td>72</td>\n",
       "    </tr>\n",
       "    <tr>\n",
       "      <th>37</th>\n",
       "      <td>75</td>\n",
       "      <td>74</td>\n",
       "    </tr>\n",
       "    <tr>\n",
       "      <th>38</th>\n",
       "      <td>77</td>\n",
       "      <td>76</td>\n",
       "    </tr>\n",
       "    <tr>\n",
       "      <th>39</th>\n",
       "      <td>79</td>\n",
       "      <td>78</td>\n",
       "    </tr>\n",
       "    <tr>\n",
       "      <th>40</th>\n",
       "      <td>81</td>\n",
       "      <td>80</td>\n",
       "    </tr>\n",
       "    <tr>\n",
       "      <th>41</th>\n",
       "      <td>83</td>\n",
       "      <td>82</td>\n",
       "    </tr>\n",
       "    <tr>\n",
       "      <th>42</th>\n",
       "      <td>85</td>\n",
       "      <td>84</td>\n",
       "    </tr>\n",
       "    <tr>\n",
       "      <th>43</th>\n",
       "      <td>87</td>\n",
       "      <td>86</td>\n",
       "    </tr>\n",
       "    <tr>\n",
       "      <th>44</th>\n",
       "      <td>89</td>\n",
       "      <td>88</td>\n",
       "    </tr>\n",
       "    <tr>\n",
       "      <th>45</th>\n",
       "      <td>91</td>\n",
       "      <td>90</td>\n",
       "    </tr>\n",
       "    <tr>\n",
       "      <th>46</th>\n",
       "      <td>93</td>\n",
       "      <td>92</td>\n",
       "    </tr>\n",
       "    <tr>\n",
       "      <th>47</th>\n",
       "      <td>95</td>\n",
       "      <td>94</td>\n",
       "    </tr>\n",
       "    <tr>\n",
       "      <th>48</th>\n",
       "      <td>97</td>\n",
       "      <td>96</td>\n",
       "    </tr>\n",
       "    <tr>\n",
       "      <th>49</th>\n",
       "      <td>99</td>\n",
       "      <td>98</td>\n",
       "    </tr>\n",
       "  </tbody>\n",
       "</table>\n",
       "</div>"
      ],
      "text/plain": [
       "    odd  even\n",
       "0     1     0\n",
       "1     3     2\n",
       "2     5     4\n",
       "3     7     6\n",
       "4     9     8\n",
       "5    11    10\n",
       "6    13    12\n",
       "7    15    14\n",
       "8    17    16\n",
       "9    19    18\n",
       "10   21    20\n",
       "11   23    22\n",
       "12   25    24\n",
       "13   27    26\n",
       "14   29    28\n",
       "15   31    30\n",
       "16   33    32\n",
       "17   35    34\n",
       "18   37    36\n",
       "19   39    38\n",
       "20   41    40\n",
       "21   43    42\n",
       "22   45    44\n",
       "23   47    46\n",
       "24   49    48\n",
       "25   51    50\n",
       "26   53    52\n",
       "27   55    54\n",
       "28   57    56\n",
       "29   59    58\n",
       "30   61    60\n",
       "31   63    62\n",
       "32   65    64\n",
       "33   67    66\n",
       "34   69    68\n",
       "35   71    70\n",
       "36   73    72\n",
       "37   75    74\n",
       "38   77    76\n",
       "39   79    78\n",
       "40   81    80\n",
       "41   83    82\n",
       "42   85    84\n",
       "43   87    86\n",
       "44   89    88\n",
       "45   91    90\n",
       "46   93    92\n",
       "47   95    94\n",
       "48   97    96\n",
       "49   99    98"
      ]
     },
     "execution_count": 11,
     "metadata": {},
     "output_type": "execute_result"
    }
   ],
   "source": [
    "# converted dictionaries into dataframe\n",
    "\n",
    "df = pd.DataFrame(d)\n",
    "df"
   ]
  },
  {
   "cell_type": "code",
   "execution_count": 12,
   "metadata": {},
   "outputs": [
    {
     "name": "stdout",
     "output_type": "stream",
     "text": [
      "odd     2500\n",
      "even    2450\n",
      "dtype: int64\n"
     ]
    }
   ],
   "source": [
    "print(df.sum())"
   ]
  },
  {
   "cell_type": "markdown",
   "metadata": {},
   "source": [
    "# Basic Functionality of Series - Std()\n",
    "Std() - it returns the standard deviation  of the values for the requestewd axis"
   ]
  },
  {
   "cell_type": "code",
   "execution_count": 13,
   "metadata": {},
   "outputs": [
    {
     "name": "stdout",
     "output_type": "stream",
     "text": [
      "[ 1  3  5  7  9 11 13 15 17 19 21 23 25 27 29 31 33 35 37 39 41 43 45 47\n",
      " 49 51 53 55 57 59 61 63 65 67 69 71 73 75 77 79 81 83 85 87 89 91 93 95\n",
      " 97 99]\n",
      "[ 0  2  4  6  8 10 12 14 16 18 20 22 24 26 28 30 32 34 36 38 40 42 44 46\n",
      " 48 50 52 54 56 58 60 62 64 66 68 70 72 74 76 78 80 82 84 86 88 90 92 94\n",
      " 96 98]\n",
      "odd     29.154759\n",
      "even    29.154759\n",
      "dtype: float64\n"
     ]
    }
   ],
   "source": [
    "import pandas as pd\n",
    "import numpy as np\n",
    "\n",
    "d = {'odd' : np.arange(1,100,2),\n",
    "    'even' : np.arange(0,100,2)}\n",
    "\n",
    "print(d['odd'])\n",
    "print(d['even'])\n",
    "\n",
    "df = pd.DataFrame(d)\n",
    "print(df.std())"
   ]
  },
  {
   "cell_type": "markdown",
   "metadata": {},
   "source": [
    "# Iterating a Dataframe - iteritems()\n",
    "\n",
    "iteritems() = iterate over each columns as key, value pair"
   ]
  },
  {
   "cell_type": "code",
   "execution_count": 15,
   "metadata": {},
   "outputs": [
    {
     "name": "stdout",
     "output_type": "stream",
     "text": [
      "col1 0    0.037447\n",
      "1    0.504559\n",
      "2    0.383054\n",
      "3    0.357937\n",
      "4    0.730253\n",
      "Name: col1, dtype: float64\n",
      "col2 0    0.072471\n",
      "1    0.223818\n",
      "2    0.761885\n",
      "3    0.204638\n",
      "4    0.090064\n",
      "Name: col2, dtype: float64\n",
      "col3 0    0.438368\n",
      "1    0.869710\n",
      "2    0.177069\n",
      "3    0.825451\n",
      "4    0.844049\n",
      "Name: col3, dtype: float64\n",
      "col4 0    0.277278\n",
      "1    0.438841\n",
      "2    0.201843\n",
      "3    0.235477\n",
      "4    0.561017\n",
      "Name: col4, dtype: float64\n"
     ]
    }
   ],
   "source": [
    "import pandas as pd\n",
    "import numpy as np\n",
    "\n",
    "df = pd.DataFrame(np.random.rand(5, 4),\n",
    "                 columns = ['col1', 'col2', 'col3', 'col4'])\n",
    "for key ,value in df.iteritems():\n",
    "    print(key,value)"
   ]
  },
  {
   "cell_type": "markdown",
   "metadata": {},
   "source": [
    "# Iterating a Dataframe - iterrows()\n",
    "iterrows() = iterate over each rows as key, value pair"
   ]
  },
  {
   "cell_type": "code",
   "execution_count": 19,
   "metadata": {},
   "outputs": [
    {
     "name": "stdout",
     "output_type": "stream",
     "text": [
      "0 col1    0.541509\n",
      "col2    0.948118\n",
      "col3    0.703975\n",
      "col4    0.683349\n",
      "Name: 0, dtype: float64\n",
      "<class 'pandas.core.frame.DataFrame'>\n",
      "1 col1    0.513542\n",
      "col2    0.133559\n",
      "col3    0.643121\n",
      "col4    0.314084\n",
      "Name: 1, dtype: float64\n",
      "<class 'pandas.core.frame.DataFrame'>\n",
      "2 col1    0.768847\n",
      "col2    0.266391\n",
      "col3    0.205611\n",
      "col4    0.325253\n",
      "Name: 2, dtype: float64\n",
      "<class 'pandas.core.frame.DataFrame'>\n",
      "3 col1    0.821973\n",
      "col2    0.472908\n",
      "col3    0.855979\n",
      "col4    0.125647\n",
      "Name: 3, dtype: float64\n",
      "<class 'pandas.core.frame.DataFrame'>\n",
      "4 col1    0.500854\n",
      "col2    0.304135\n",
      "col3    0.992646\n",
      "col4    0.078478\n",
      "Name: 4, dtype: float64\n",
      "<class 'pandas.core.frame.DataFrame'>\n"
     ]
    }
   ],
   "source": [
    "import pandas as pd\n",
    "import numpy as np\n",
    "\n",
    "df = pd.DataFrame(np.random.rand(5, 4),\n",
    "                 columns = ['col1', 'col2', 'col3', 'col4'])\n",
    "for key ,value in df.iterrows():\n",
    "    print(key,value)\n",
    "    print(type(df))\n",
    "    "
   ]
  },
  {
   "cell_type": "markdown",
   "metadata": {},
   "source": [
    "# Iterating a Dataframe - itertuples()\n",
    "itertuples() = returns an iterator yielding a named tuple for each row"
   ]
  },
  {
   "cell_type": "code",
   "execution_count": 20,
   "metadata": {},
   "outputs": [
    {
     "name": "stdout",
     "output_type": "stream",
     "text": [
      "Pandas(Index=0, col1=0.15041432811394706, col2=0.1964888050011453, col3=0.6586716768725351, col4=0.0031103741683555786)\n",
      "<class 'pandas.core.frame.DataFrame'>\n",
      "Pandas(Index=1, col1=0.9713584720375471, col2=0.2079151413526864, col3=0.24890247746627525, col4=0.6212135598491723)\n",
      "<class 'pandas.core.frame.DataFrame'>\n",
      "Pandas(Index=2, col1=0.15688055382266186, col2=0.24115646130734747, col3=0.04755424592314883, col4=0.8071400613075483)\n",
      "<class 'pandas.core.frame.DataFrame'>\n",
      "Pandas(Index=3, col1=0.28523502105182197, col2=0.25270105762756134, col3=0.9141158579285142, col4=0.7902060447630905)\n",
      "<class 'pandas.core.frame.DataFrame'>\n",
      "Pandas(Index=4, col1=0.16060793892505532, col2=0.6261887664399389, col3=0.8918604067262094, col4=0.7432683604830594)\n",
      "<class 'pandas.core.frame.DataFrame'>\n"
     ]
    }
   ],
   "source": [
    "import pandas as pd\n",
    "import numpy as np\n",
    "\n",
    "df = pd.DataFrame(np.random.rand(5, 4),\n",
    "                 columns = ['col1', 'col2', 'col3', 'col4'])\n",
    "for row in df.itertuples():\n",
    "    print(row)\n",
    "    print(type(df))"
   ]
  },
  {
   "cell_type": "markdown",
   "metadata": {},
   "source": [
    "# Groupby Operation\n",
    "\n",
    "an object in pandas can be split into multiples one"
   ]
  },
  {
   "cell_type": "code",
   "execution_count": 21,
   "metadata": {},
   "outputs": [],
   "source": [
    "import pandas as pd"
   ]
  },
  {
   "cell_type": "code",
   "execution_count": 22,
   "metadata": {},
   "outputs": [
    {
     "name": "stdout",
     "output_type": "stream",
     "text": [
      "           team  rank  year\n",
      "0   west indies     7  1975\n",
      "1   west indies     7  1979\n",
      "2         india     2  1983\n",
      "3     australia     1  1987\n",
      "4      pakistan     6  1992\n",
      "5     sri lanka     4  1996\n",
      "6     australia     1  1999\n",
      "7     australia     1  2003\n",
      "8     australia     1  2007\n",
      "9         india     2  2011\n",
      "10    australia     1  2015\n"
     ]
    }
   ],
   "source": [
    "world_cup ={'team':['west indies', 'west indies', 'india', 'australia', 'pakistan','sri lanka', 'australia', 'australia', 'australia',\n",
    "                   'india', 'australia'],\n",
    "           'rank' : [7,7,2,1,6,4,1,1,1,2,1],\n",
    "           'year' : [1975,1979,1983,1987,1992,1996,1999,2003,2007,2011,2015]}\n",
    "df = pd.DataFrame(world_cup)\n",
    "print(df)"
   ]
  },
  {
   "cell_type": "code",
   "execution_count": 23,
   "metadata": {},
   "outputs": [
    {
     "name": "stdout",
     "output_type": "stream",
     "text": [
      "{'australia': Int64Index([3, 6, 7, 8, 10], dtype='int64'), 'india': Int64Index([2, 9], dtype='int64'), 'pakistan': Int64Index([4], dtype='int64'), 'sri lanka': Int64Index([5], dtype='int64'), 'west indies': Int64Index([0, 1], dtype='int64')}\n"
     ]
    }
   ],
   "source": [
    "# now grouping dataframe according \"team' column\n",
    "\n",
    "print(df.groupby('team').groups)"
   ]
  },
  {
   "cell_type": "code",
   "execution_count": 27,
   "metadata": {},
   "outputs": [
    {
     "name": "stdout",
     "output_type": "stream",
     "text": [
      "{('australia', 1): Int64Index([3, 6, 7, 8, 10], dtype='int64'), ('india', 2): Int64Index([2, 9], dtype='int64'), ('pakistan', 6): Int64Index([4], dtype='int64'), ('sri lanka', 4): Int64Index([5], dtype='int64'), ('west indies', 7): Int64Index([0, 1], dtype='int64')}\n"
     ]
    }
   ],
   "source": [
    "# now grouping with two columns\n",
    "print(df.groupby(['team', 'rank']).groups)"
   ]
  },
  {
   "cell_type": "code",
   "execution_count": 39,
   "metadata": {},
   "outputs": [
    {
     "name": "stdout",
     "output_type": "stream",
     "text": [
      "australia\n",
      "india\n",
      "pakistan\n",
      "sri lanka\n",
      "west indies\n"
     ]
    }
   ],
   "source": [
    "# Groups can be iterated through just like itertools\n",
    "\n",
    "\n",
    "df = pd.DataFrame(world_cup)\n",
    "grouped = df.groupby('team')\n",
    "for name, group in grouped:\n",
    "    print(name)"
   ]
  },
  {
   "cell_type": "code",
   "execution_count": 40,
   "metadata": {},
   "outputs": [],
   "source": [
    "# a single group can be selected using get_group()"
   ]
  },
  {
   "cell_type": "code",
   "execution_count": 41,
   "metadata": {},
   "outputs": [
    {
     "name": "stdout",
     "output_type": "stream",
     "text": [
      "    team  rank  year\n",
      "2  india     2  1983\n",
      "9  india     2  2011\n"
     ]
    }
   ],
   "source": [
    "df = pd.DataFrame(world_cup)\n",
    "grouped = df.groupby('team')\n",
    "print(grouped.get_group('india'))"
   ]
  },
  {
   "cell_type": "code",
   "execution_count": 43,
   "metadata": {},
   "outputs": [
    {
     "name": "stdout",
     "output_type": "stream",
     "text": [
      "         team  rank  year\n",
      "3   australia     1  1987\n",
      "6   australia     1  1999\n",
      "7   australia     1  2003\n",
      "8   australia     1  2007\n",
      "10  australia     1  2015\n"
     ]
    }
   ],
   "source": [
    "df = pd.DataFrame(world_cup)\n",
    "grouped = df.groupby('team')\n",
    "print(grouped.get_group('australia'))"
   ]
  },
  {
   "cell_type": "markdown",
   "metadata": {},
   "source": [
    "#  AGGREGATIONS"
   ]
  },
  {
   "cell_type": "markdown",
   "metadata": {},
   "source": [
    "An Aggregated function returnas a single aggregated value for each group"
   ]
  },
  {
   "cell_type": "code",
   "execution_count": 44,
   "metadata": {},
   "outputs": [
    {
     "name": "stdout",
     "output_type": "stream",
     "text": [
      "[ 1  3  5  7  9 11 13 15 17 19 21 23 25 27 29 31 33 35 37 39 41 43 45 47\n",
      " 49 51 53 55 57 59 61 63 65 67 69 71 73 75 77 79 81 83 85 87 89 91 93 95\n",
      " 97 99]\n",
      "[ 0  2  4  6  8 10 12 14 16 18 20 22 24 26 28 30 32 34 36 38 40 42 44 46\n",
      " 48 50 52 54 56 58 60 62 64 66 68 70 72 74 76 78 80 82 84 86 88 90 92 94\n",
      " 96 98]\n",
      "{1: Int64Index([0], dtype='int64'), 3: Int64Index([1], dtype='int64'), 5: Int64Index([2], dtype='int64'), 7: Int64Index([3], dtype='int64'), 9: Int64Index([4], dtype='int64'), 11: Int64Index([5], dtype='int64'), 13: Int64Index([6], dtype='int64'), 15: Int64Index([7], dtype='int64'), 17: Int64Index([8], dtype='int64'), 19: Int64Index([9], dtype='int64'), 21: Int64Index([10], dtype='int64'), 23: Int64Index([11], dtype='int64'), 25: Int64Index([12], dtype='int64'), 27: Int64Index([13], dtype='int64'), 29: Int64Index([14], dtype='int64'), 31: Int64Index([15], dtype='int64'), 33: Int64Index([16], dtype='int64'), 35: Int64Index([17], dtype='int64'), 37: Int64Index([18], dtype='int64'), 39: Int64Index([19], dtype='int64'), 41: Int64Index([20], dtype='int64'), 43: Int64Index([21], dtype='int64'), 45: Int64Index([22], dtype='int64'), 47: Int64Index([23], dtype='int64'), 49: Int64Index([24], dtype='int64'), 51: Int64Index([25], dtype='int64'), 53: Int64Index([26], dtype='int64'), 55: Int64Index([27], dtype='int64'), 57: Int64Index([28], dtype='int64'), 59: Int64Index([29], dtype='int64'), 61: Int64Index([30], dtype='int64'), 63: Int64Index([31], dtype='int64'), 65: Int64Index([32], dtype='int64'), 67: Int64Index([33], dtype='int64'), 69: Int64Index([34], dtype='int64'), 71: Int64Index([35], dtype='int64'), 73: Int64Index([36], dtype='int64'), 75: Int64Index([37], dtype='int64'), 77: Int64Index([38], dtype='int64'), 79: Int64Index([39], dtype='int64'), 81: Int64Index([40], dtype='int64'), 83: Int64Index([41], dtype='int64'), 85: Int64Index([42], dtype='int64'), 87: Int64Index([43], dtype='int64'), 89: Int64Index([44], dtype='int64'), 91: Int64Index([45], dtype='int64'), 93: Int64Index([46], dtype='int64'), 95: Int64Index([47], dtype='int64'), 97: Int64Index([48], dtype='int64'), 99: Int64Index([49], dtype='int64')}\n"
     ]
    }
   ],
   "source": [
    "import pandas as pd\n",
    "import numpy as np\n",
    "\n",
    "d = {'odd' : np.arange(1,100,2), 'even' : np.arange(0,100,2)}\n",
    "print(d['odd'])\n",
    "print(d['even'])\n",
    "df = pd.DataFrame(d)\n",
    "print(df.groupby('odd').groups)"
   ]
  },
  {
   "cell_type": "markdown",
   "metadata": {},
   "source": [
    "# CONCATENATION\n",
    "\n",
    "concatenation is the process of combining two or more data structures"
   ]
  },
  {
   "cell_type": "code",
   "execution_count": 45,
   "metadata": {},
   "outputs": [],
   "source": [
    "import pandas as pd\n",
    "\n"
   ]
  },
  {
   "cell_type": "code",
   "execution_count": 46,
   "metadata": {},
   "outputs": [],
   "source": [
    "world_champions = {'Team' : ['India', 'Austalia','West Indies', 'Pakistan', 'Sri Lanka'],\n",
    "                  'Icc_rank' : [2,3,7,8,4],\n",
    "                  'World_Champions_year' : [2011,2015, 1979,1992,1996],\n",
    "                   'Points' : [874,787,753,673,855]}"
   ]
  },
  {
   "cell_type": "code",
   "execution_count": 47,
   "metadata": {},
   "outputs": [],
   "source": [
    "Chokers = {'Team' : ['South Africa', 'New Zealand', 'Zimbabwe'],\n",
    "          'Icc_rank': [1,5,9],\n",
    "          'Points': [895,764,656]}"
   ]
  },
  {
   "cell_type": "code",
   "execution_count": 49,
   "metadata": {},
   "outputs": [
    {
     "name": "stdout",
     "output_type": "stream",
     "text": [
      "   Icc_rank  Points          Team  World_Champions_year\n",
      "0         2     874         India                2011.0\n",
      "1         3     787      Austalia                2015.0\n",
      "2         7     753   West Indies                1979.0\n",
      "3         8     673      Pakistan                1992.0\n",
      "4         4     855     Sri Lanka                1996.0\n",
      "0         1     895  South Africa                   NaN\n",
      "1         5     764   New Zealand                   NaN\n",
      "2         9     656      Zimbabwe                   NaN\n"
     ]
    },
    {
     "name": "stderr",
     "output_type": "stream",
     "text": [
      "C:\\Users\\Public\\Anaconda3\\lib\\site-packages\\ipykernel_launcher.py:3: FutureWarning: Sorting because non-concatenation axis is not aligned. A future version\n",
      "of pandas will change to not sort by default.\n",
      "\n",
      "To accept the future behavior, pass 'sort=False'.\n",
      "\n",
      "To retain the current behavior and silence the warning, pass 'sort=True'.\n",
      "\n",
      "  This is separate from the ipykernel package so we can avoid doing imports until\n"
     ]
    }
   ],
   "source": [
    "df1 = pd.DataFrame(world_champions)\n",
    "df2 = pd.DataFrame(Chokers)\n",
    "print(pd.concat([df1 ,df2]))"
   ]
  },
  {
   "cell_type": "code",
   "execution_count": 50,
   "metadata": {},
   "outputs": [
    {
     "name": "stdout",
     "output_type": "stream",
     "text": [
      "   Icc_rank  Points          Team  World_Champions_year\n",
      "0         2     874         India                2011.0\n",
      "1         3     787      Austalia                2015.0\n",
      "2         7     753   West Indies                1979.0\n",
      "3         8     673      Pakistan                1992.0\n",
      "4         4     855     Sri Lanka                1996.0\n",
      "0         1     895  South Africa                   NaN\n",
      "1         5     764   New Zealand                   NaN\n",
      "2         9     656      Zimbabwe                   NaN\n"
     ]
    },
    {
     "name": "stderr",
     "output_type": "stream",
     "text": [
      "C:\\Users\\Public\\Anaconda3\\lib\\site-packages\\pandas\\core\\frame.py:6692: FutureWarning: Sorting because non-concatenation axis is not aligned. A future version\n",
      "of pandas will change to not sort by default.\n",
      "\n",
      "To accept the future behavior, pass 'sort=False'.\n",
      "\n",
      "To retain the current behavior and silence the warning, pass 'sort=True'.\n",
      "\n",
      "  sort=sort)\n"
     ]
    }
   ],
   "source": [
    "print(df1.append(df2))"
   ]
  },
  {
   "cell_type": "code",
   "execution_count": 51,
   "metadata": {},
   "outputs": [
    {
     "name": "stdout",
     "output_type": "stream",
     "text": [
      "          Team  Icc_rank  World_Champions_year  Points          Team  \\\n",
      "0        India         2                  2011     874  South Africa   \n",
      "1     Austalia         3                  2015     787   New Zealand   \n",
      "2  West Indies         7                  1979     753      Zimbabwe   \n",
      "3     Pakistan         8                  1992     673           NaN   \n",
      "4    Sri Lanka         4                  1996     855           NaN   \n",
      "\n",
      "   Icc_rank  Points  \n",
      "0       1.0   895.0  \n",
      "1       5.0   764.0  \n",
      "2       9.0   656.0  \n",
      "3       NaN     NaN  \n",
      "4       NaN     NaN  \n"
     ]
    }
   ],
   "source": [
    "print(pd.concat([df1,df2],axis =1))"
   ]
  },
  {
   "cell_type": "code",
   "execution_count": 52,
   "metadata": {},
   "outputs": [
    {
     "name": "stdout",
     "output_type": "stream",
     "text": [
      "   Icc_rank  Points          Team  World_Champions_year\n",
      "0         2     874         India                2011.0\n",
      "1         3     787      Austalia                2015.0\n",
      "2         7     753   West Indies                1979.0\n",
      "3         8     673      Pakistan                1992.0\n",
      "4         4     855     Sri Lanka                1996.0\n",
      "0         1     895  South Africa                   NaN\n",
      "1         5     764   New Zealand                   NaN\n",
      "2         9     656      Zimbabwe                   NaN\n"
     ]
    },
    {
     "name": "stderr",
     "output_type": "stream",
     "text": [
      "C:\\Users\\Public\\Anaconda3\\lib\\site-packages\\ipykernel_launcher.py:1: FutureWarning: Sorting because non-concatenation axis is not aligned. A future version\n",
      "of pandas will change to not sort by default.\n",
      "\n",
      "To accept the future behavior, pass 'sort=False'.\n",
      "\n",
      "To retain the current behavior and silence the warning, pass 'sort=True'.\n",
      "\n",
      "  \"\"\"Entry point for launching an IPython kernel.\n"
     ]
    }
   ],
   "source": [
    "print(pd.concat([df1,df2],axis =0))"
   ]
  },
  {
   "cell_type": "markdown",
   "metadata": {},
   "source": [
    "# MERGING & JOINING\n",
    "\n",
    "Merging is the pandas operation that performs Database joins on objects"
   ]
  },
  {
   "cell_type": "code",
   "execution_count": 54,
   "metadata": {},
   "outputs": [],
   "source": [
    "import pandas as pd\n",
    "\n",
    "champion = {'Team' : ['India', 'Australia', 'West Indies', 'Pakistan', 'Sri lanka'],\n",
    "           'Icc Rank' : [2,3,7,8,4],\n",
    "           'World Champions Year' : [2011,2015,1979,1992,1996],\n",
    "           'Points' : [874,787,753,673,855]}"
   ]
  },
  {
   "cell_type": "code",
   "execution_count": 55,
   "metadata": {},
   "outputs": [],
   "source": [
    "match_stats = {'Team' : ['India', 'Australia', 'West Indies', 'Pakistan', 'Sri lanka'],\n",
    "              'World cup played' : [11, 10,11,9,8],\n",
    "              'ODIs' : [733,988,712,679,662]}"
   ]
  },
  {
   "cell_type": "code",
   "execution_count": 56,
   "metadata": {},
   "outputs": [],
   "source": [
    "df1 = pd.DataFrame(champion)\n",
    "df2 = pd.DataFrame(match_stats)"
   ]
  },
  {
   "cell_type": "code",
   "execution_count": 62,
   "metadata": {},
   "outputs": [
    {
     "name": "stdout",
     "output_type": "stream",
     "text": [
      "          Team  Icc Rank  World Champions Year  Points  World cup played  ODIs\n",
      "0        India         2                  2011     874                11   733\n",
      "1    Australia         3                  2015     787                10   988\n",
      "2  West Indies         7                  1979     753                11   712\n",
      "3     Pakistan         8                  1992     673                 9   679\n",
      "4    Sri lanka         4                  1996     855                 8   662\n"
     ]
    }
   ],
   "source": [
    "print(pd.merge(df1,df2 , on ='Team'))"
   ]
  },
  {
   "cell_type": "code",
   "execution_count": null,
   "metadata": {},
   "outputs": [],
   "source": []
  }
 ],
 "metadata": {
  "kernelspec": {
   "display_name": "Python 3",
   "language": "python",
   "name": "python3"
  },
  "language_info": {
   "codemirror_mode": {
    "name": "ipython",
    "version": 3
   },
   "file_extension": ".py",
   "mimetype": "text/x-python",
   "name": "python",
   "nbconvert_exporter": "python",
   "pygments_lexer": "ipython3",
   "version": "3.7.3"
  }
 },
 "nbformat": 4,
 "nbformat_minor": 2
}
